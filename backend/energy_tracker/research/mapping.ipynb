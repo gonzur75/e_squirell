{
 "cells": [
  {
   "cell_type": "code",
   "id": "initial_id",
   "metadata": {
    "collapsed": true,
    "ExecuteTime": {
     "end_time": "2025-04-23T10:54:54.927588Z",
     "start_time": "2025-04-23T10:54:54.917470Z"
    }
   },
   "source": [
    "import pandas as pd\n",
    "import re"
   ],
   "outputs": [],
   "execution_count": 20
  },
  {
   "metadata": {
    "ExecuteTime": {
     "end_time": "2025-04-23T10:44:20.522248Z",
     "start_time": "2025-04-23T10:44:20.490284Z"
    }
   },
   "cell_type": "code",
   "source": "df = pd.read_json('device.json', typ='series')['mapping']\n",
   "id": "9768e819f064e86e",
   "outputs": [],
   "execution_count": 7
  },
  {
   "metadata": {
    "ExecuteTime": {
     "end_time": "2025-04-23T10:49:19.478390Z",
     "start_time": "2025-04-23T10:49:19.468987Z"
    }
   },
   "cell_type": "code",
   "source": [
    "df = pd.DataFrame(df)\n",
    "cod = df.iloc[0]"
   ],
   "id": "51b2d07dcdb412fc",
   "outputs": [],
   "execution_count": 15
  },
  {
   "metadata": {
    "ExecuteTime": {
     "end_time": "2025-04-23T10:56:13.324722Z",
     "start_time": "2025-04-23T10:56:13.312652Z"
    }
   },
   "cell_type": "code",
   "source": "result = cod.apply(lambda x: re.sub(r'(?<!^)([A-Z])', r'_\\1', x).lower())\n",
   "id": "dc5e8124ced9b618",
   "outputs": [],
   "execution_count": 24
  },
  {
   "metadata": {
    "ExecuteTime": {
     "end_time": "2025-04-23T11:09:43.664948Z",
     "start_time": "2025-04-23T11:09:43.640938Z"
    }
   },
   "cell_type": "code",
   "source": "result\n",
   "id": "8eb5a99c6406190e",
   "outputs": [
    {
     "data": {
      "text/plain": [
       "101                voltage_a\n",
       "102                current_a\n",
       "103           active_power_a\n",
       "104           power_factor_a\n",
       "105         reactive_power_a\n",
       "106        energy_consumed_a\n",
       "107         reverse_energy_a\n",
       "111                voltage_b\n",
       "112                current_b\n",
       "113           active_power_b\n",
       "114           power_factor_b\n",
       "115         reactive_power_b\n",
       "116        energy_consumed_b\n",
       "117         reverse_energy_b\n",
       "121                voltage_c\n",
       "122                current_c\n",
       "123           active_power_c\n",
       "124           power_factor_c\n",
       "125         reactive_power_c\n",
       "126        energy_consumed_c\n",
       "127         reverse_energy_c\n",
       "131    total_energy_consumed\n",
       "132                  current\n",
       "133             active_power\n",
       "134           reactive_power\n",
       "135                frequency\n",
       "136              temperature\n",
       "137            device_status\n",
       "138        voltage_phase_seq\n",
       "139         reverse_energy_t\n",
       "Name: code, dtype: object"
      ]
     },
     "execution_count": 28,
     "metadata": {},
     "output_type": "execute_result"
    }
   ],
   "execution_count": 28
  },
  {
   "metadata": {},
   "cell_type": "code",
   "outputs": [],
   "execution_count": null,
   "source": "",
   "id": "420c12cfc04fdb58"
  }
 ],
 "metadata": {
  "kernelspec": {
   "display_name": "Python 3",
   "language": "python",
   "name": "python3"
  },
  "language_info": {
   "codemirror_mode": {
    "name": "ipython",
    "version": 2
   },
   "file_extension": ".py",
   "mimetype": "text/x-python",
   "name": "python",
   "nbconvert_exporter": "python",
   "pygments_lexer": "ipython2",
   "version": "2.7.6"
  }
 },
 "nbformat": 4,
 "nbformat_minor": 5
}
